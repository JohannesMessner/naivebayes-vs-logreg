{
 "cells": [
  {
   "cell_type": "code",
   "execution_count": 1,
   "metadata": {},
   "outputs": [],
   "source": [
    "import numpy as np\n",
    "from sklearn.datasets import load_iris\n",
    "from sklearn.linear_model import LogisticRegression\n",
    "import matplotlib.pyplot as plt\n",
    "%matplotlib inline"
   ]
  },
  {
   "cell_type": "markdown",
   "metadata": {},
   "source": [
    "# Naive Bayes Classifier"
   ]
  },
  {
   "cell_type": "code",
   "execution_count": 16,
   "metadata": {},
   "outputs": [],
   "source": [
    "class NBC:\n",
    "    # class representing the naive bayes clasifier (NBC)\n",
    "    \n",
    "    def __init__(self, feature_types, num_classes):\n",
    "        self.feature_types = feature_types  # list of feature types; so far only 'r' for 'real' supported\n",
    "        self.num_classes = num_classes  # number of classes to clasify\n",
    "        \n",
    "    def fit(self, Xtrain, ytrain):\n",
    "        # determines the parametres for the NBC model\n",
    "        # a Gaussian is used to model these parameters, therefore the empirical mean and variance get stored as params\n",
    "        self.means = None # means of every feature in the dataset, by class\n",
    "        self.variances = None # variances of every teature in the dataset, by class\n",
    "        self.y_params = None # parameters to determine probability of classes y\n",
    "        self.N_c = None      # number of examples for each class c\n",
    "        self.N = Xtrain.shape[0]  # total number of examples = number of rows in X\n",
    "        for c in range(self.num_classes):\n",
    "            #determine y_params -- empirical ratio of #(y=c)/N\n",
    "            N_c = np.sum(ytrain == c)\n",
    "            y_param_c = N_c/self.N\n",
    "            y_param_c = y_param_c if y_param_c != 0 else 1e-6  # replace 0 with small value to avoid log(0)\n",
    "            if self.N_c is None:\n",
    "                self.N_c = np.array([N_c])\n",
    "            else:\n",
    "                self.N_c = np.append(self.N_c, [N_c])\n",
    "            if self.y_params is None:\n",
    "                self.y_params = np.array([y_param_c])\n",
    "            else:\n",
    "                self.y_params = np.append(self.y_params, [y_param_c])\n",
    "                \n",
    "            # determine variance and mean for every feature and class -- params for x\n",
    "            X_c = Xtrain[ytrain==c] # TODO: adapt this so that c can be arbitrary, not in range(num_classes)\n",
    "            means_c, variances_c = X_c.mean(axis=0), X_c.var(axis=0)\n",
    "            variances_c = np.array([1e-6 if var == 0 else var for var in variances_c])  # avoid division by 0\n",
    "            if self.means is None:\n",
    "                self.means = np.array([means_c])\n",
    "            else:\n",
    "                self.means = np.append(self.means, [means_c], axis=0)\n",
    "            if self.variances is None:\n",
    "                self.variances = np.array([variances_c])\n",
    "            else:\n",
    "                self.variances = np.append(self.variances, [variances_c], axis=0)\n",
    "                \n",
    "    def predict(self, x_new):\n",
    "        # predicts a class (y) for a feature vector (x_new)\n",
    "        if x_new.ndim == 1:\n",
    "            x_new = np.array([x_new])  # convert single feture vector to matrix\n",
    "        n = len(x_new)\n",
    "        winning_class, winning_stat = -1 * np.ones(n), float('-inf') * np.ones(n)\n",
    "        denominator = 0  # denominator in the bayesian posterior expression\n",
    "        for c in range(self.num_classes):\n",
    "            mean, var = self.means[c], self.variances[c]  # arrays of means and vars for every feature in x_new\n",
    "            for i in range(n):  # TODO: remove loop for matrix operation\n",
    "                log_p_x_given_yc = np.sum(np.log(self.gaussian(x_new[i], mean, var)))  # log likelihood of x_new given y = c\n",
    "                log_p_yc = np.log(self.y_params[c])  # log prior of y = c\n",
    "                log_p_xyc = log_p_x_given_yc + log_p_yc  # log probability of x_new and y = c; numerator of posterior\n",
    "                denominator += np.exp(log_p_xyc) # only used to return actual probability for y\n",
    "                if log_p_xyc > winning_stat[i]:\n",
    "                    winning_class[i], winning_stat[i] = c, log_p_xyc\n",
    "        return winning_class\n",
    "        #return winning_class, np.exp(winning_stat) / denominator\n",
    "    \n",
    "            \n",
    "    def gaussian(self, val, mean, var):\n",
    "        f = (1 / (np.sqrt(var)*np.sqrt(2*np.pi))) * np.exp(-(1/2) * (((val-mean)/np.sqrt(var))) ** 2)\n",
    "        # replaces 0s to avoid log(0)\n",
    "        return f + [1e-6 if x == 0 else 0 for x in f]\n",
    "        "
   ]
  },
  {
   "cell_type": "code",
   "execution_count": 3,
   "metadata": {},
   "outputs": [],
   "source": [
    "# load dataset and fit model\n",
    "iris = load_iris()\n",
    "X, y = iris['data'], iris['target']\n",
    "\n",
    "nbc = NBC(feature_types=['r', 'r', 'r'], num_classes=3)\n",
    "nbc.fit(X[0], y[0])"
   ]
  },
  {
   "cell_type": "code",
   "execution_count": 6,
   "metadata": {},
   "outputs": [
    {
     "name": "stdout",
     "output_type": "stream",
     "text": [
      "[0 0 0 0 0 0 0 0 0 0 0 0 0 0 0 0 0 0 0 0 0 0 0 0 0 0 0 0 0 0 0 0 0 0 0 0 0\n",
      " 0 0 0 0 0 0 0 0 0 0 0 0 0 1 1 1 1 1 1 1 1 1 1 1 1 1 1 1 1 1 1 1 1 1 1 1 1\n",
      " 1 1 1 1 1 1 1 1 1 1 1 1 1 1 1 1 1 1 1 1 1 1 1 1 1 1 2 2 2 2 2 2 2 2 2 2 2\n",
      " 2 2 2 2 2 2 2 2 2 2 2 2 2 2 2 2 2 2 2 2 2 2 2 2 2 2 2 2 2 2 2 2 2 2 2 2 2\n",
      " 2 2]\n",
      "[[4.9 3.  1.4 0.2]\n",
      " [4.4 2.9 1.4 0.2]\n",
      " [4.8 3.  1.4 0.1]\n",
      " [5.1 3.5 1.4 0.3]\n",
      " [5.  3.  1.6 0.2]\n",
      " [5.2 4.1 1.5 0.1]\n",
      " [5.  2.  3.5 1. ]\n",
      " [5.5 2.4 3.8 1.1]\n",
      " [5.5 2.6 4.4 1.2]\n",
      " [6.9 3.2 5.7 2.3]]\n",
      "Prediction: [0.]; actual: 0\n",
      "Prediction: [0.]; actual: 0\n",
      "Prediction: [0.]; actual: 0\n",
      "Prediction: [0.]; actual: 0\n",
      "Prediction: [0.]; actual: 0\n",
      "Prediction: [0.]; actual: 0\n",
      "Prediction: [1.]; actual: 1\n",
      "Prediction: [1.]; actual: 1\n",
      "Prediction: [1.]; actual: 1\n",
      "Prediction: [2.]; actual: 2\n"
     ]
    }
   ],
   "source": [
    "# small test to see if everything is working\n",
    "test_sample = [1,8,12,17,25,32,60,80,90,120]\n",
    "print(y)\n",
    "labels = y[test_sample]\n",
    "print(X[test_sample,:])\n",
    "for i, x in enumerate(X[test_sample,:]):\n",
    "    c = nbc.predict(x)\n",
    "    print(\"Prediction: \" + str(c) + \"; actual: \" + str(labels[i]))"
   ]
  },
  {
   "cell_type": "code",
   "execution_count": 7,
   "metadata": {},
   "outputs": [
    {
     "name": "stdout",
     "output_type": "stream",
     "text": [
      "0.96\n"
     ]
    }
   ],
   "source": [
    "# test over the entire dataset\n",
    "yhat = nbc.predict(X)\n",
    "test_accuracy = np.mean(yhat == y)\n",
    "print(test_accuracy)"
   ]
  },
  {
   "cell_type": "markdown",
   "metadata": {},
   "source": [
    "# Logistic Regression and Comparison"
   ]
  },
  {
   "cell_type": "markdown",
   "metadata": {},
   "source": [
    "Logistic regression will be performed using scikit learn's implementation.\n",
    "In order to perform logistic regression with regularisation lambda * w^T . w in sklearn, we need to specify C=1/lambda.\n",
    "E.g. for lambda=0.1, C=10."
   ]
  },
  {
   "cell_type": "code",
   "execution_count": 3,
   "metadata": {},
   "outputs": [],
   "source": [
    "from sklearn.datasets import load_iris\n",
    "iris = load_iris()\n",
    "X, y = iris['data'], iris['target']"
   ]
  },
  {
   "cell_type": "code",
   "execution_count": 8,
   "metadata": {},
   "outputs": [],
   "source": [
    "# randomly shuffle into training and testing data\n",
    "def shuffle(X, y):\n",
    "    N, D = X.shape\n",
    "    Ntrain = int(0.8 * N)\n",
    "    shuffler = np.random.permutation(N)\n",
    "    Xtrain = X[shuffler[:Ntrain]]\n",
    "    ytrain = y[shuffler[:Ntrain]]\n",
    "    Xtest = X[shuffler[Ntrain:]]\n",
    "    ytest = y[shuffler[Ntrain:]]\n",
    "    return Xtrain, ytrain, Xtest, ytest"
   ]
  },
  {
   "cell_type": "code",
   "execution_count": 9,
   "metadata": {},
   "outputs": [],
   "source": [
    "def plot_accuracies(nbc_accuracies, lr_accuracies):\n",
    "    x = range(1,11)\n",
    "    plt.plot(x, nbc_accuracies)\n",
    "    plt.plot(x, lr_accuracies)\n",
    "    plt.show()"
   ]
  },
  {
   "cell_type": "code",
   "execution_count": 18,
   "metadata": {},
   "outputs": [
    {
     "name": "stderr",
     "output_type": "stream",
     "text": [
      "<ipython-input-16-49e94e6f558f>:32: RuntimeWarning: Mean of empty slice.\n",
      "  means_c, variances_c = X_c.mean(axis=0), X_c.var(axis=0)\n",
      "/home/johannes/.venvs/ml/lib/python3.8/site-packages/numpy/core/_methods.py:162: RuntimeWarning: invalid value encountered in true_divide\n",
      "  ret = um.true_divide(\n",
      "<ipython-input-16-49e94e6f558f>:32: RuntimeWarning: Degrees of freedom <= 0 for slice\n",
      "  means_c, variances_c = X_c.mean(axis=0), X_c.var(axis=0)\n",
      "/home/johannes/.venvs/ml/lib/python3.8/site-packages/numpy/core/_methods.py:194: RuntimeWarning: invalid value encountered in true_divide\n",
      "  arrmean = um.true_divide(\n",
      "/home/johannes/.venvs/ml/lib/python3.8/site-packages/numpy/core/_methods.py:223: RuntimeWarning: invalid value encountered in true_divide\n",
      "  ret = um.true_divide(\n",
      "<ipython-input-16-49e94e6f558f>:32: RuntimeWarning: Mean of empty slice.\n",
      "  means_c, variances_c = X_c.mean(axis=0), X_c.var(axis=0)\n",
      "/home/johannes/.venvs/ml/lib/python3.8/site-packages/numpy/core/_methods.py:162: RuntimeWarning: invalid value encountered in true_divide\n",
      "  ret = um.true_divide(\n",
      "<ipython-input-16-49e94e6f558f>:32: RuntimeWarning: Degrees of freedom <= 0 for slice\n",
      "  means_c, variances_c = X_c.mean(axis=0), X_c.var(axis=0)\n",
      "/home/johannes/.venvs/ml/lib/python3.8/site-packages/numpy/core/_methods.py:194: RuntimeWarning: invalid value encountered in true_divide\n",
      "  arrmean = um.true_divide(\n",
      "/home/johannes/.venvs/ml/lib/python3.8/site-packages/numpy/core/_methods.py:223: RuntimeWarning: invalid value encountered in true_divide\n",
      "  ret = um.true_divide(\n",
      "<ipython-input-16-49e94e6f558f>:32: RuntimeWarning: Mean of empty slice.\n",
      "  means_c, variances_c = X_c.mean(axis=0), X_c.var(axis=0)\n",
      "/home/johannes/.venvs/ml/lib/python3.8/site-packages/numpy/core/_methods.py:162: RuntimeWarning: invalid value encountered in true_divide\n",
      "  ret = um.true_divide(\n",
      "<ipython-input-16-49e94e6f558f>:32: RuntimeWarning: Degrees of freedom <= 0 for slice\n",
      "  means_c, variances_c = X_c.mean(axis=0), X_c.var(axis=0)\n",
      "/home/johannes/.venvs/ml/lib/python3.8/site-packages/numpy/core/_methods.py:194: RuntimeWarning: invalid value encountered in true_divide\n",
      "  arrmean = um.true_divide(\n",
      "/home/johannes/.venvs/ml/lib/python3.8/site-packages/numpy/core/_methods.py:223: RuntimeWarning: invalid value encountered in true_divide\n",
      "  ret = um.true_divide(\n",
      "<ipython-input-16-49e94e6f558f>:32: RuntimeWarning: Mean of empty slice.\n",
      "  means_c, variances_c = X_c.mean(axis=0), X_c.var(axis=0)\n",
      "/home/johannes/.venvs/ml/lib/python3.8/site-packages/numpy/core/_methods.py:162: RuntimeWarning: invalid value encountered in true_divide\n",
      "  ret = um.true_divide(\n",
      "<ipython-input-16-49e94e6f558f>:32: RuntimeWarning: Degrees of freedom <= 0 for slice\n",
      "  means_c, variances_c = X_c.mean(axis=0), X_c.var(axis=0)\n",
      "/home/johannes/.venvs/ml/lib/python3.8/site-packages/numpy/core/_methods.py:194: RuntimeWarning: invalid value encountered in true_divide\n",
      "  arrmean = um.true_divide(\n",
      "/home/johannes/.venvs/ml/lib/python3.8/site-packages/numpy/core/_methods.py:223: RuntimeWarning: invalid value encountered in true_divide\n",
      "  ret = um.true_divide(\n"
     ]
    },
    {
     "name": "stdout",
     "output_type": "stream",
     "text": [
      "[0.8315     0.92966667 0.94683333 0.94933333 0.9495     0.9485\n",
      " 0.95133333 0.9515     0.95183333 0.95233333]\n",
      "[0.8445     0.9145     0.94083333 0.94816667 0.95316667 0.9575\n",
      " 0.95866667 0.95883333 0.95933333 0.96166667]\n"
     ]
    }
   ],
   "source": [
    "n_perm = 200 ## number of permutations to train, test and average over\n",
    "nbc = NBC(feature_types=['r', 'r', 'r'], num_classes=3)\n",
    "nbc_accuracies = []\n",
    "lr_accuracies = []\n",
    "\n",
    "for i_perm in range(n_perm):\n",
    "    nbc_accuracies_i = []\n",
    "    lr_accuracies_i = []\n",
    "    Xtrain, ytrain, Xtest, ytest = shuffle(X, y)\n",
    "    for k in range(1,11):\n",
    "        training_range = int(k * (len(Xtrain)/10))\n",
    "        Xtrain_k = Xtrain[:training_range]\n",
    "        ytrain_k = ytrain[:training_range]\n",
    "        \n",
    "        nbc = NBC(feature_types=['r', 'r', 'r'], num_classes=3)\n",
    "        nbc.fit(Xtrain_k, ytrain_k)\n",
    "        yhat_nbc = nbc.predict(Xtest)\n",
    "        accuracy_nbc = np.mean(yhat_nbc == ytest)\n",
    "        nbc_accuracies_i.append(accuracy_nbc)\n",
    "        \n",
    "        lr = LogisticRegression(max_iter=1000).fit(Xtrain_k, ytrain_k)\n",
    "        yhat_lr = lr.predict(Xtest)\n",
    "        accuracy_lr = np.mean(yhat_lr == ytest)\n",
    "        lr_accuracies_i.append(accuracy_lr)\n",
    "        \n",
    "    nbc_accuracies.append(nbc_accuracies_i)\n",
    "    lr_accuracies.append(lr_accuracies_i)\n",
    "\n",
    "avg_nbc_accuracies = np.array(nbc_accuracies).mean(axis=0)\n",
    "avg_lr_accuracies = np.array(lr_accuracies).mean(axis=0)\n",
    "print(avg_nbc_accuracies)\n",
    "print(avg_lr_accuracies)"
   ]
  },
  {
   "cell_type": "code",
   "execution_count": 19,
   "metadata": {},
   "outputs": [
    {
     "data": {
      "image/png": "[encoded data removed]",
      "text/plain": [
       "<Figure size 432x288 with 1 Axes>"
      ]
     },
     "metadata": {
      "needs_background": "light"
     },
     "output_type": "display_data"
    }
   ],
   "source": [
    "# compare naive bayes and logistic regression\n",
    "plot_accuracies(avg_nbc_accuracies, avg_lr_accuracies)"
   ]
  },
  {
   "cell_type": "code",
   "execution_count": null,
   "metadata": {},
   "outputs": [],
   "source": []
  }
 ],
 "metadata": {
  "kernelspec": {
   "display_name": "Python 3",
   "language": "python",
   "name": "python3"
  },
  "language_info": {
   "codemirror_mode": {
    "name": "ipython",
    "version": 3
   },
   "file_extension": ".py",
   "mimetype": "text/x-python",
   "name": "python",
   "nbconvert_exporter": "python",
   "pygments_lexer": "ipython3",
   "version": "3.8.5"
  }
 },
 "nbformat": 4,
 "nbformat_minor": 4
}
