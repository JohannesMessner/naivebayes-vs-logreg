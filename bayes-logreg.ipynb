{
 "cells": [
  {
   "cell_type": "code",
   "execution_count": 2,
   "metadata": {},
   "outputs": [],
   "source": [
    "import numpy as np\n",
    "from sklearn.datasets import load_iris"
   ]
  },
  {
   "cell_type": "markdown",
   "metadata": {},
   "source": [
    "# Naive Bayes Classifier"
   ]
  },
  {
   "cell_type": "code",
   "execution_count": 43,
   "metadata": {},
   "outputs": [],
   "source": [
    "class NBC:\n",
    "    # class representing the naive bayes clasifier (NBC)\n",
    "    \n",
    "    def __init__(self, feature_types, num_classes):\n",
    "        self.feature_types = feature_types  # list of feature types; so far only 'r' for 'real' supported\n",
    "        self.num_classes = num_classes  # number of classes to clasify\n",
    "        \n",
    "    def fit(self, Xtrain, ytrain):\n",
    "        # determines the parametres for the NBC model\n",
    "        # a Gaussian is used to model these parameters, therefore the empirical mean and variance get stored as params\n",
    "        self.means = None # means of every feature in the dataset, by class\n",
    "        self.variances = None # variances of every teature in the dataset, by class\n",
    "        self.y_params = None # parameters to determine probability of classes y\n",
    "        self.N_c = None      # number of examples for each class c\n",
    "        self.N = X.shape[0]  # total number of examples = number of rows in X\n",
    "        for c in range(self.num_classes):\n",
    "            #determine y_params -- empirical ratio of #(y=c)/N\n",
    "            N_c = np.sum(y == c)\n",
    "            y_param_c = N_c/self.N\n",
    "            if self.N_c is None:\n",
    "                self.N_c = np.array([N_c])\n",
    "            else:\n",
    "                self.N_c = np.append(self.N_c, [N_c])\n",
    "            if self.y_params is None:\n",
    "                self.y_params = np.array([y_param_c])\n",
    "            else:\n",
    "                self.y_params = np.append(self.y_params, [y_param_c])\n",
    "                \n",
    "            # determine variance and mean for every feature and class -- params for x\n",
    "            X_c = X[y==c] # TODO: adapt this so that c can be arbitrary, not in range(num_classes)\n",
    "            means_c, variances_c = X_c.mean(axis=0), X_c.var(axis=0)\n",
    "            variances_c = np.array([1e-6 if var == 0 else var for var in variances_c])  # avoid division by 0\n",
    "            if self.means is None:\n",
    "                self.means = np.array([means_c])\n",
    "            else:\n",
    "                self.means = np.append(self.means, [means_c], axis=0)\n",
    "            if self.variances is None:\n",
    "                self.variances = np.array([variances_c])\n",
    "            else:\n",
    "                self.variances = np.append(self.variances, [variances_c], axis=0)\n",
    "                \n",
    "    def predict(self, x_new):\n",
    "        # predicts a class (y) for a feature vector (x_new)\n",
    "        winning_class, winning_stat = -1, float('-inf')\n",
    "        denominator = 0  # denominator in the bayesian posterior expression\n",
    "        for c in range(self.num_classes):\n",
    "            mean, var = self.means[c], self.variances[c]  # arrays of means and vars for every feature in x_new\n",
    "            log_p_x_given_yc = np.sum(np.log(self.gaussian(x_new, mean, var)))  # log likelihood of x_new given y = c\n",
    "            log_p_yc = np.log(self.y_params[c])  # log prior of y = c\n",
    "            log_p_xyc = log_p_x_given_yc + log_p_yc  # log probability of x_new and y = c; numerator of posterior\n",
    "            denominator += np.exp(log_p_xyc) # only used to return actual probability for y\n",
    "            if log_p_xyc > winning_stat:\n",
    "                winning_class, winning_stat = c, log_p_xyc\n",
    "        \n",
    "        return winning_class, np.exp(winning_stat) / denominator\n",
    "    \n",
    "            \n",
    "    def gaussian(self, val, mean, var):\n",
    "        return (1 / (np.sqrt(var)*np.sqrt(2*np.pi))) * np.exp(-(1/2) * (((val-mean)/np.sqrt(var))) ** 2)\n",
    "        "
   ]
  },
  {
   "cell_type": "code",
   "execution_count": 44,
   "metadata": {},
   "outputs": [],
   "source": [
    "# load dataset and fit model\n",
    "iris = load_iris()\n",
    "X, y = iris['data'], iris['target']\n",
    "\n",
    "nbc = NBC(feature_types=['r', 'r', 'r'], num_classes=3)\n",
    "nbc.fit(X, y)"
   ]
  },
  {
   "cell_type": "code",
   "execution_count": 45,
   "metadata": {},
   "outputs": [
    {
     "name": "stdout",
     "output_type": "stream",
     "text": [
      "[0 0 0 0 0 0 0 0 0 0 0 0 0 0 0 0 0 0 0 0 0 0 0 0 0 0 0 0 0 0 0 0 0 0 0 0 0\n",
      " 0 0 0 0 0 0 0 0 0 0 0 0 0 1 1 1 1 1 1 1 1 1 1 1 1 1 1 1 1 1 1 1 1 1 1 1 1\n",
      " 1 1 1 1 1 1 1 1 1 1 1 1 1 1 1 1 1 1 1 1 1 1 1 1 1 1 2 2 2 2 2 2 2 2 2 2 2\n",
      " 2 2 2 2 2 2 2 2 2 2 2 2 2 2 2 2 2 2 2 2 2 2 2 2 2 2 2 2 2 2 2 2 2 2 2 2 2\n",
      " 2 2]\n",
      "[[4.9 3.  1.4 0.2]\n",
      " [4.4 2.9 1.4 0.2]\n",
      " [4.8 3.  1.4 0.1]\n",
      " [5.1 3.5 1.4 0.3]\n",
      " [5.  3.  1.6 0.2]\n",
      " [5.2 4.1 1.5 0.1]\n",
      " [5.  2.  3.5 1. ]\n",
      " [5.5 2.4 3.8 1.1]\n",
      " [5.5 2.6 4.4 1.2]\n",
      " [6.9 3.2 5.7 2.3]]\n",
      "Prediction: 0; actual: 0\n",
      "Prediction: 0; actual: 0\n",
      "Prediction: 0; actual: 0\n",
      "Prediction: 0; actual: 0\n",
      "Prediction: 0; actual: 0\n",
      "Prediction: 0; actual: 0\n",
      "Prediction: 1; actual: 1\n",
      "Prediction: 1; actual: 1\n",
      "Prediction: 1; actual: 1\n",
      "Prediction: 2; actual: 2\n"
     ]
    }
   ],
   "source": [
    "# small test to see if everything is working\n",
    "test_sample = [1,8,12,17,25,32,60,80,90,120]\n",
    "print(y)\n",
    "labels = y[test_sample]\n",
    "print(X[test_sample,:])\n",
    "for i, x in enumerate(X[test_sample,:]):\n",
    "    c, _ = nbc.predict(x)\n",
    "    print(\"Prediction: \" + str(c) + \"; actual: \" + str(labels[i]))"
   ]
  },
  {
   "cell_type": "code",
   "execution_count": null,
   "metadata": {},
   "outputs": [],
   "source": []
  }
 ],
 "metadata": {
  "kernelspec": {
   "display_name": "Python 3",
   "language": "python",
   "name": "python3"
  },
  "language_info": {
   "codemirror_mode": {
    "name": "ipython",
    "version": 3
   },
   "file_extension": ".py",
   "mimetype": "text/x-python",
   "name": "python",
   "nbconvert_exporter": "python",
   "pygments_lexer": "ipython3",
   "version": "3.8.5"
  }
 },
 "nbformat": 4,
 "nbformat_minor": 4
}
